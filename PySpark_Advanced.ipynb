{
 "cells": [
  {
   "cell_type": "code",
   "execution_count": 1,
   "id": "4431da2c",
   "metadata": {},
   "outputs": [],
   "source": [
    "import findspark\n",
    "findspark.init()"
   ]
  },
  {
   "cell_type": "code",
   "execution_count": 2,
   "id": "d2d7eafb",
   "metadata": {},
   "outputs": [],
   "source": [
    "from pyspark.sql import SparkSession\n",
    "from pyspark.sql.types import *\n",
    "from pyspark.sql.functions import *"
   ]
  },
  {
   "cell_type": "code",
   "execution_count": 3,
   "id": "2c8aa4c4",
   "metadata": {},
   "outputs": [],
   "source": [
    "spark = SparkSession.builder\\\n",
    "        .appName(\"Advanced_Spark\")\\\n",
    "        .getOrCreate()"
   ]
  },
  {
   "cell_type": "code",
   "execution_count": 29,
   "id": "9b5d7460",
   "metadata": {},
   "outputs": [],
   "source": [
    "people_schema = StructType([\n",
    "    StructField(\"name\",StringType(),True),\n",
    "    StructField(\"age\",IntegerType(),True),\n",
    "    StructField(\"city\",StringType(),True),\n",
    "    StructField(\"salary\",FloatType(),True),\n",
    "    StructField(\"gender\",StringType(),True)\n",
    "])"
   ]
  },
  {
   "cell_type": "code",
   "execution_count": 30,
   "id": "c83ba520",
   "metadata": {},
   "outputs": [],
   "source": [
    "df = spark.read.csv(\"People_1.csv\",header=True,inferSchema=False,schema=people_schema)"
   ]
  },
  {
   "cell_type": "code",
   "execution_count": 31,
   "id": "04481e67",
   "metadata": {},
   "outputs": [
    {
     "name": "stdout",
     "output_type": "stream",
     "text": [
      "+-------+---+-------+-------+------+\n",
      "|   name|age|   city| salary|gender|\n",
      "+-------+---+-------+-------+------+\n",
      "|  Alice| 29| Mumbai|50000.0|     F|\n",
      "|    Bob| 34|   Pune|60000.0|     M|\n",
      "|Charlie| 25|   Pune|45000.0|     M|\n",
      "|  David| 42| Mumbai|80000.0|     M|\n",
      "|    Eva| 30|Chennai|62000.0|     F|\n",
      "|  Frank| 38|Chennai|   null|     M|\n",
      "+-------+---+-------+-------+------+\n",
      "\n"
     ]
    }
   ],
   "source": [
    "df.show()"
   ]
  },
  {
   "cell_type": "code",
   "execution_count": 32,
   "id": "aeed49a9",
   "metadata": {},
   "outputs": [],
   "source": [
    "df_with_age_group = df.withColumn(\"age_group\",when(df.age<30,\"Young\")\n",
    "                         .when((df.age>=30) & (df.age<=45),\"Adult\")\n",
    "                         .when(df.age>45,\"Senior\"))"
   ]
  },
  {
   "cell_type": "code",
   "execution_count": 33,
   "id": "e7b1757c",
   "metadata": {},
   "outputs": [
    {
     "name": "stdout",
     "output_type": "stream",
     "text": [
      "+-------+---+-------+-------+------+---------+\n",
      "|   name|age|   city| salary|gender|age_group|\n",
      "+-------+---+-------+-------+------+---------+\n",
      "|  Alice| 29| Mumbai|50000.0|     F|    Young|\n",
      "|    Bob| 34|   Pune|60000.0|     M|    Adult|\n",
      "|Charlie| 25|   Pune|45000.0|     M|    Young|\n",
      "|  David| 42| Mumbai|80000.0|     M|    Adult|\n",
      "|    Eva| 30|Chennai|62000.0|     F|    Adult|\n",
      "|  Frank| 38|Chennai|   null|     M|    Adult|\n",
      "+-------+---+-------+-------+------+---------+\n",
      "\n"
     ]
    }
   ],
   "source": [
    "df_with_age_group.show()"
   ]
  },
  {
   "cell_type": "code",
   "execution_count": 77,
   "id": "9fa98c2c",
   "metadata": {},
   "outputs": [],
   "source": [
    "number_of_people = df_with_age_group.groupBy(\"city\",\"gender\",\"age_group\").agg(count(\"*\").alias(\"people_count\"))"
   ]
  },
  {
   "cell_type": "code",
   "execution_count": 78,
   "id": "c7ea5346",
   "metadata": {},
   "outputs": [],
   "source": [
    "avg_salary_column_added = df_with_age_group.filter(df.salary.isNotNull())\\\n",
    ".groupBy(\"city\",\"gender\",\"age_group\").agg(avg(\"salary\").alias(\"avg_salary\"))"
   ]
  },
  {
   "cell_type": "code",
   "execution_count": 79,
   "id": "8a38a748",
   "metadata": {},
   "outputs": [],
   "source": [
    "number_people_with_avg_salary = number_of_people.join(avg_salary_column_added,how='left',on=[\"city\",\"gender\",\"age_group\"])"
   ]
  },
  {
   "cell_type": "code",
   "execution_count": 80,
   "id": "27fa53ae",
   "metadata": {},
   "outputs": [],
   "source": [
    "number_people_with_avg_salary = number_people_with_avg_salary.fillna({'avg_salary':0})"
   ]
  },
  {
   "cell_type": "code",
   "execution_count": 87,
   "id": "52be8066",
   "metadata": {
    "scrolled": true
   },
   "outputs": [],
   "source": [
    "salary_level_column_added = number_people_with_avg_salary.withColumn(\"salary_level\",when((number_people_with_avg_salary.avg_salary) >= 70000,\"High\")\n",
    "                                                  .when((number_people_with_avg_salary.avg_salary >=50000) & (number_people_with_avg_salary.avg_salary <69999),\"Medium\")\n",
    "                                                  .when((number_people_with_avg_salary.avg_salary < 50000),\"Low\")\n",
    "                                                  .when((number_people_with_avg_salary.avg_salary.isNull()),\"Unavailable\"))\n",
    "#                                                    .otherwise(\"Unavailable\"))"
   ]
  },
  {
   "cell_type": "code",
   "execution_count": 88,
   "id": "0c6f2cfe",
   "metadata": {},
   "outputs": [
    {
     "name": "stdout",
     "output_type": "stream",
     "text": [
      "+-------+------+---------+------------+----------+------------+\n",
      "|   city|gender|age_group|people_count|avg_salary|salary_level|\n",
      "+-------+------+---------+------------+----------+------------+\n",
      "|   Pune|     M|    Young|           1|   45000.0|         Low|\n",
      "|Chennai|     F|    Adult|           1|   62000.0|      Medium|\n",
      "|   Pune|     M|    Adult|           1|   60000.0|      Medium|\n",
      "| Mumbai|     M|    Adult|           1|   80000.0|        High|\n",
      "|Chennai|     M|    Adult|           1|       0.0|         Low|\n",
      "| Mumbai|     F|    Young|           1|   50000.0|      Medium|\n",
      "+-------+------+---------+------------+----------+------------+\n",
      "\n"
     ]
    }
   ],
   "source": [
    "salary_level_column_added.show()"
   ]
  },
  {
   "cell_type": "code",
   "execution_count": null,
   "id": "5803cb10",
   "metadata": {},
   "outputs": [],
   "source": []
  }
 ],
 "metadata": {
  "kernelspec": {
   "display_name": "Python 3 (ipykernel)",
   "language": "python",
   "name": "python3"
  },
  "language_info": {
   "codemirror_mode": {
    "name": "ipython",
    "version": 3
   },
   "file_extension": ".py",
   "mimetype": "text/x-python",
   "name": "python",
   "nbconvert_exporter": "python",
   "pygments_lexer": "ipython3",
   "version": "3.11.4"
  }
 },
 "nbformat": 4,
 "nbformat_minor": 5
}
