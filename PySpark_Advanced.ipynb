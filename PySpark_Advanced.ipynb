{
 "cells": [
  {
   "cell_type": "code",
   "execution_count": 1,
   "id": "4431da2c",
   "metadata": {},
   "outputs": [],
   "source": [
    "import findspark\n",
    "findspark.init()"
   ]
  },
  {
   "cell_type": "code",
   "execution_count": 2,
   "id": "d2d7eafb",
   "metadata": {},
   "outputs": [],
   "source": [
    "from pyspark.sql import SparkSession\n",
    "from pyspark.sql.types import *\n",
    "from pyspark.sql.functions import *"
   ]
  },
  {
   "cell_type": "code",
   "execution_count": 3,
   "id": "2c8aa4c4",
   "metadata": {},
   "outputs": [],
   "source": [
    "spark = SparkSession.builder\\\n",
    "        .appName(\"Advanced_Spark\")\\\n",
    "        .getOrCreate()"
   ]
  },
  {
   "cell_type": "markdown",
   "id": "98b730b4",
   "metadata": {},
   "source": [
    "# Task:\n",
    "Calculate the age group for each person:\n",
    "\n",
    "\"Young\" if age < 30\n",
    "\n",
    "\"Adult\" if age is between 30 and 45\n",
    "\n",
    "\"Senior\" if age > 45\n",
    "\n",
    "For each combination of City, Gender, and Age Group:\n",
    "\n",
    "Count number of people\n",
    "\n",
    "Compute average non-null salary\n",
    "\n",
    "Categorize the average salary as:\n",
    "\n",
    "\"High\" if avg salary ≥ 70000\n",
    "\n",
    "\"Medium\" if avg salary between 50000 and 69999\n",
    "\n",
    "\"Low\" if avg salary < 50000\n",
    "\n",
    "\"Unavailable\" if average salary is null (e.g., all were null in that group)"
   ]
  },
  {
   "cell_type": "code",
   "execution_count": 4,
   "id": "9b5d7460",
   "metadata": {},
   "outputs": [],
   "source": [
    "people_schema = StructType([\n",
    "    StructField(\"name\",StringType(),True),\n",
    "    StructField(\"age\",IntegerType(),True),\n",
    "    StructField(\"city\",StringType(),True),\n",
    "    StructField(\"salary\",FloatType(),True),\n",
    "    StructField(\"gender\",StringType(),True)\n",
    "])"
   ]
  },
  {
   "cell_type": "code",
   "execution_count": 5,
   "id": "c83ba520",
   "metadata": {},
   "outputs": [],
   "source": [
    "df = spark.read.csv(\"People_1.csv\",header=True,inferSchema=False,schema=people_schema)"
   ]
  },
  {
   "cell_type": "code",
   "execution_count": 6,
   "id": "04481e67",
   "metadata": {},
   "outputs": [
    {
     "name": "stdout",
     "output_type": "stream",
     "text": [
      "+-------+---+-------+-------+------+\n",
      "|   name|age|   city| salary|gender|\n",
      "+-------+---+-------+-------+------+\n",
      "|  Alice| 29| Mumbai|50000.0|     F|\n",
      "|    Bob| 34|   Pune|60000.0|     M|\n",
      "|Charlie| 25|   Pune|45000.0|     M|\n",
      "|  David| 42| Mumbai|80000.0|     M|\n",
      "|    Eva| 30|Chennai|62000.0|     F|\n",
      "|  Frank| 38|Chennai|   null|     M|\n",
      "|  Ritch| 28| Mumbai|68000.0|     M|\n",
      "|   Lory| 30|   Pune|81000.0|     F|\n",
      "|   Karl| 26|   Pune|40000.0|     M|\n",
      "+-------+---+-------+-------+------+\n",
      "\n"
     ]
    }
   ],
   "source": [
    "df.show()"
   ]
  },
  {
   "cell_type": "code",
   "execution_count": 7,
   "id": "aeed49a9",
   "metadata": {},
   "outputs": [],
   "source": [
    "df_with_age_group = df.withColumn(\"age_group\",when(df.age<30,\"Young\")\n",
    "                         .when((df.age>=30) & (df.age<=45),\"Adult\")\n",
    "                         .when(df.age>45,\"Senior\"))"
   ]
  },
  {
   "cell_type": "code",
   "execution_count": 8,
   "id": "e7b1757c",
   "metadata": {},
   "outputs": [
    {
     "name": "stdout",
     "output_type": "stream",
     "text": [
      "+-------+---+-------+-------+------+---------+\n",
      "|   name|age|   city| salary|gender|age_group|\n",
      "+-------+---+-------+-------+------+---------+\n",
      "|  Alice| 29| Mumbai|50000.0|     F|    Young|\n",
      "|    Bob| 34|   Pune|60000.0|     M|    Adult|\n",
      "|Charlie| 25|   Pune|45000.0|     M|    Young|\n",
      "|  David| 42| Mumbai|80000.0|     M|    Adult|\n",
      "|    Eva| 30|Chennai|62000.0|     F|    Adult|\n",
      "|  Frank| 38|Chennai|   null|     M|    Adult|\n",
      "|  Ritch| 28| Mumbai|68000.0|     M|    Young|\n",
      "|   Lory| 30|   Pune|81000.0|     F|    Adult|\n",
      "|   Karl| 26|   Pune|40000.0|     M|    Young|\n",
      "+-------+---+-------+-------+------+---------+\n",
      "\n"
     ]
    }
   ],
   "source": [
    "df_with_age_group.show()"
   ]
  },
  {
   "cell_type": "code",
   "execution_count": 9,
   "id": "9fa98c2c",
   "metadata": {},
   "outputs": [],
   "source": [
    "number_of_people = df_with_age_group.groupBy(\"city\",\"gender\",\"age_group\").agg(count(\"*\").alias(\"people_count\"))"
   ]
  },
  {
   "cell_type": "code",
   "execution_count": 10,
   "id": "c7ea5346",
   "metadata": {},
   "outputs": [],
   "source": [
    "avg_salary_column_added = df_with_age_group.filter(df.salary.isNotNull())\\\n",
    ".groupBy(\"city\",\"gender\",\"age_group\").agg(avg(\"salary\").alias(\"avg_salary\"))"
   ]
  },
  {
   "cell_type": "code",
   "execution_count": 11,
   "id": "8a38a748",
   "metadata": {},
   "outputs": [],
   "source": [
    "number_people_with_avg_salary = number_of_people.join(avg_salary_column_added,how='left',on=[\"city\",\"gender\",\"age_group\"])"
   ]
  },
  {
   "cell_type": "code",
   "execution_count": 12,
   "id": "27fa53ae",
   "metadata": {},
   "outputs": [],
   "source": [
    "number_people_with_avg_salary = number_people_with_avg_salary.fillna({'avg_salary':0})"
   ]
  },
  {
   "cell_type": "code",
   "execution_count": 13,
   "id": "52be8066",
   "metadata": {
    "scrolled": true
   },
   "outputs": [],
   "source": [
    "salary_level_column_added = number_people_with_avg_salary.withColumn(\"salary_level\",when((number_people_with_avg_salary.avg_salary) >= 70000,\"High\")\n",
    "                                                  .when((number_people_with_avg_salary.avg_salary >=50000) & (number_people_with_avg_salary.avg_salary <69999),\"Medium\")\n",
    "                                                  .when((number_people_with_avg_salary.avg_salary < 50000),\"Low\")\n",
    "                                                  .when((number_people_with_avg_salary.avg_salary.isNull()),\"Unavailable\"))\n",
    "#                                                    .otherwise(\"Unavailable\"))"
   ]
  },
  {
   "cell_type": "code",
   "execution_count": 14,
   "id": "0c6f2cfe",
   "metadata": {},
   "outputs": [
    {
     "name": "stdout",
     "output_type": "stream",
     "text": [
      "+-------+------+---------+------------+----------+------------+\n",
      "|   city|gender|age_group|people_count|avg_salary|salary_level|\n",
      "+-------+------+---------+------------+----------+------------+\n",
      "|   Pune|     M|    Young|           2|   42500.0|         Low|\n",
      "|Chennai|     F|    Adult|           1|   62000.0|      Medium|\n",
      "|   Pune|     M|    Adult|           1|   60000.0|      Medium|\n",
      "|   Pune|     F|    Adult|           1|   81000.0|        High|\n",
      "| Mumbai|     M|    Young|           1|   68000.0|      Medium|\n",
      "| Mumbai|     M|    Adult|           1|   80000.0|        High|\n",
      "|Chennai|     M|    Adult|           1|       0.0|         Low|\n",
      "| Mumbai|     F|    Young|           1|   50000.0|      Medium|\n",
      "+-------+------+---------+------------+----------+------------+\n",
      "\n"
     ]
    }
   ],
   "source": [
    "salary_level_column_added.show()"
   ]
  },
  {
   "cell_type": "markdown",
   "id": "c9cbcabd",
   "metadata": {},
   "source": [
    "# Advanced Level – Question 2:\n",
    "\n",
    "Create a report that shows for each city:\n",
    "\n",
    "Total number of people\n",
    "\n",
    "Number of people in each salary level (\"High\", \"Medium\", \"Low\", \"Unavailable\")\n",
    "\n",
    "Percentage distribution of these salary levels"
   ]
  },
  {
   "cell_type": "code",
   "execution_count": 15,
   "id": "5bec766e",
   "metadata": {
    "scrolled": true
   },
   "outputs": [],
   "source": [
    "df = df.withColumn(\"Salary_Status\",when(df.salary>=60000,\"High\")\n",
    "                              .when((df.salary>=40000) & (df.salary<=59999),\"Medium\")\n",
    "                              .when((df.salary<40000),\"Low\")\n",
    "                              .when((df.salary.isNull()),\"Unknown\"))\n",
    "add_salary_status_column = df.select(\"name\",\"city\",\"salary\",\"salary_status\")"
   ]
  },
  {
   "cell_type": "code",
   "execution_count": 16,
   "id": "32837814",
   "metadata": {
    "scrolled": true
   },
   "outputs": [],
   "source": [
    "city_gender_wise_cont = df.groupBy(\"city\",\"gender\").agg(count(\"*\").alias(\"people_count\"))"
   ]
  },
  {
   "cell_type": "code",
   "execution_count": 17,
   "id": "7e6c205e",
   "metadata": {},
   "outputs": [],
   "source": [
    "city_gender_wise_avg_salary_without_null = df.filter(df.salary.isNotNull())\\\n",
    ".groupBy(\"city\",\"gender\").agg(avg(\"salary\").alias(\"avg_salary\"))"
   ]
  },
  {
   "cell_type": "code",
   "execution_count": 18,
   "id": "2b728d2d",
   "metadata": {},
   "outputs": [],
   "source": [
    "city_gender_wise_avg_salary = city_gender_wise_cont.join(city_gender_wise_avg_salary_without_null,how='left',on=['city','gender'])"
   ]
  },
  {
   "cell_type": "code",
   "execution_count": 19,
   "id": "19f6a1e9",
   "metadata": {},
   "outputs": [],
   "source": [
    "city_gender_wise_avg_salary = city_gender_wise_avg_salary.fillna({\"avg_salary\":0})"
   ]
  },
  {
   "cell_type": "code",
   "execution_count": 20,
   "id": "5a314b7b",
   "metadata": {},
   "outputs": [
    {
     "name": "stdout",
     "output_type": "stream",
     "text": [
      "+-------+------+------------+------------------+\n",
      "|   city|gender|people_count|        avg_salary|\n",
      "+-------+------+------------+------------------+\n",
      "|Chennai|     F|           1|           62000.0|\n",
      "| Mumbai|     F|           1|           50000.0|\n",
      "|   Pune|     M|           3|48333.333333333336|\n",
      "|   Pune|     F|           1|           81000.0|\n",
      "|Chennai|     M|           1|               0.0|\n",
      "| Mumbai|     M|           2|           74000.0|\n",
      "+-------+------+------------+------------------+\n",
      "\n"
     ]
    }
   ],
   "source": [
    "city_gender_wise_avg_salary.show()"
   ]
  },
  {
   "cell_type": "code",
   "execution_count": 21,
   "id": "380d8728",
   "metadata": {},
   "outputs": [],
   "source": [
    "#city wise count\n",
    "city_wise_count = add_salary_status_column.groupBy(\"city\").agg(count(\"*\").alias(\"peoples_in_city\"))"
   ]
  },
  {
   "cell_type": "code",
   "execution_count": 22,
   "id": "44c0016f",
   "metadata": {},
   "outputs": [],
   "source": [
    "people_by_salary_status_count = add_salary_status_column.groupBy(\"city\",\"salary_status\").agg(count(\"*\").alias(\"total_people\"))"
   ]
  },
  {
   "cell_type": "code",
   "execution_count": 23,
   "id": "d410be44",
   "metadata": {},
   "outputs": [],
   "source": [
    "people_by_salary_status = people_by_salary_status_count.join(city_wise_count,how='left',on=['city'])"
   ]
  },
  {
   "cell_type": "code",
   "execution_count": 24,
   "id": "134ef46d",
   "metadata": {},
   "outputs": [],
   "source": [
    "people_by_salary_status_percentage = people_by_salary_status.withColumn(\"%_percentage\",round((col(\"total_people\")/col(\"peoples_in_city\"))*100,2))"
   ]
  },
  {
   "cell_type": "code",
   "execution_count": 25,
   "id": "98abe4a5",
   "metadata": {},
   "outputs": [
    {
     "name": "stdout",
     "output_type": "stream",
     "text": [
      "+-------+-------------+------------+---------------+------------+\n",
      "|   city|salary_status|total_people|peoples_in_city|%_percentage|\n",
      "+-------+-------------+------------+---------------+------------+\n",
      "|Chennai|      Unknown|           1|              2|        50.0|\n",
      "| Mumbai|       Medium|           1|              3|       33.33|\n",
      "|   Pune|         High|           2|              4|        50.0|\n",
      "| Mumbai|         High|           2|              3|       66.67|\n",
      "|   Pune|       Medium|           2|              4|        50.0|\n",
      "|Chennai|         High|           1|              2|        50.0|\n",
      "+-------+-------------+------------+---------------+------------+\n",
      "\n"
     ]
    }
   ],
   "source": [
    "people_by_salary_status_percentage.show()"
   ]
  },
  {
   "cell_type": "code",
   "execution_count": 26,
   "id": "a9978352",
   "metadata": {},
   "outputs": [],
   "source": [
    "salary_status_counts = people_by_salary_status_count.groupBy(\"city\").pivot(\"salary_status\").sum(\"total_people\")"
   ]
  },
  {
   "cell_type": "code",
   "execution_count": 27,
   "id": "2617d1a6",
   "metadata": {},
   "outputs": [],
   "source": [
    "salary_status_counts = salary_status_counts.fillna(0)"
   ]
  },
  {
   "cell_type": "code",
   "execution_count": 28,
   "id": "ba8fc95d",
   "metadata": {},
   "outputs": [],
   "source": [
    "salary_status_counts = salary_status_counts.withColumnRenamed(\"High\",\"high_count\")\\\n",
    "                    .withColumnRenamed(\"Medium\",\"medium_count\")\\\n",
    "                    .withColumnRenamed(\"Unknown\",\"unavailable_count\")\\\n",
    "                    .withColumnRenamed(\"Low\",\"low_count\")"
   ]
  },
  {
   "cell_type": "code",
   "execution_count": 37,
   "id": "1e17121c",
   "metadata": {},
   "outputs": [],
   "source": [
    "# temp_df = people_by_salary_status_percentage.groupBy(\"city\",\"total_people\",\"peoples_in_city\").pivot(\"salary_status\").sum(\"%_percentage\")\n",
    "temp_df = people_by_salary_status_percentage.groupBy(\"city\").pivot(\"salary_status\").sum(\"%_percentage\")"
   ]
  },
  {
   "cell_type": "code",
   "execution_count": 38,
   "id": "a1c7af76",
   "metadata": {},
   "outputs": [],
   "source": [
    "temp_df = temp_df.withColumnRenamed(\"High\",\"high_%\")\\\n",
    "                .withColumnRenamed(\"Medium\",\"medium_%\")\\\n",
    "                .withColumnRenamed(\"Low\",\"low_%\")\\\n",
    "                .withColumnRenamed(\"Unknown\",\"unknown_%\")"
   ]
  },
  {
   "cell_type": "code",
   "execution_count": 39,
   "id": "d7aed342",
   "metadata": {},
   "outputs": [],
   "source": [
    "temp_df = temp_df.fillna(0)"
   ]
  },
  {
   "cell_type": "code",
   "execution_count": 40,
   "id": "d785ab9d",
   "metadata": {},
   "outputs": [
    {
     "name": "stdout",
     "output_type": "stream",
     "text": [
      "+-------+------+--------+---------+\n",
      "|   city|high_%|medium_%|unknown_%|\n",
      "+-------+------+--------+---------+\n",
      "|Chennai|  50.0|     0.0|     50.0|\n",
      "| Mumbai| 66.67|   33.33|      0.0|\n",
      "|   Pune|  50.0|    50.0|      0.0|\n",
      "+-------+------+--------+---------+\n",
      "\n"
     ]
    }
   ],
   "source": [
    "temp_df.show()"
   ]
  },
  {
   "cell_type": "code",
   "execution_count": 41,
   "id": "a7ac1a1a",
   "metadata": {},
   "outputs": [],
   "source": [
    "final_df = temp_df.join(city_wise_count, on=\"city\", how=\"left\")\n",
    "final_df = final_df.join(salary_status_counts, on=\"city\", how=\"left\")\n",
    "final_df = final_df.join(city_wise_count)"
   ]
  },
  {
   "cell_type": "code",
   "execution_count": 42,
   "id": "b274775e",
   "metadata": {},
   "outputs": [
    {
     "name": "stdout",
     "output_type": "stream",
     "text": [
      "+-------+------+--------+---------+---------------+----------+------------+-----------------+-------+---------------+\n",
      "|   city|high_%|medium_%|unknown_%|peoples_in_city|high_count|medium_count|unavailable_count|   city|peoples_in_city|\n",
      "+-------+------+--------+---------+---------------+----------+------------+-----------------+-------+---------------+\n",
      "|Chennai|  50.0|     0.0|     50.0|              2|         1|           0|                1|Chennai|              2|\n",
      "|Chennai|  50.0|     0.0|     50.0|              2|         1|           0|                1| Mumbai|              3|\n",
      "|Chennai|  50.0|     0.0|     50.0|              2|         1|           0|                1|   Pune|              4|\n",
      "| Mumbai| 66.67|   33.33|      0.0|              3|         2|           1|                0|Chennai|              2|\n",
      "| Mumbai| 66.67|   33.33|      0.0|              3|         2|           1|                0| Mumbai|              3|\n",
      "| Mumbai| 66.67|   33.33|      0.0|              3|         2|           1|                0|   Pune|              4|\n",
      "|   Pune|  50.0|    50.0|      0.0|              4|         2|           2|                0|Chennai|              2|\n",
      "|   Pune|  50.0|    50.0|      0.0|              4|         2|           2|                0| Mumbai|              3|\n",
      "|   Pune|  50.0|    50.0|      0.0|              4|         2|           2|                0|   Pune|              4|\n",
      "+-------+------+--------+---------+---------------+----------+------------+-----------------+-------+---------------+\n",
      "\n"
     ]
    }
   ],
   "source": [
    "final_df.show()"
   ]
  },
  {
   "cell_type": "markdown",
   "id": "4c86db18",
   "metadata": {},
   "source": [
    "##  Tasks\n",
    "\n",
    "Drop rows where either UnitsSold or UnitPrice is null.\n",
    "\n",
    "Add a new column: TotalSale = UnitsSold * UnitPrice.\n",
    "\n",
    "Find average TotalSale per Region and Category.\n",
    "\n",
    "Use pivot() to transform Region-wise average sales, with Category as columns.\n",
    "\n",
    "Fill any nulls in the pivoted result with 0."
   ]
  },
  {
   "cell_type": "code",
   "execution_count": 55,
   "id": "a4116c77",
   "metadata": {},
   "outputs": [],
   "source": [
    "df_schema = StructType([\n",
    "    StructField(\"productid\",IntegerType(),True),\n",
    "    StructField(\"producname\",StringType(),True),\n",
    "    StructField(\"category\",StringType(),True),\n",
    "    StructField(\"regionid\",StringType(),True),\n",
    "    StructField(\"unitsold\",IntegerType(),True),\n",
    "    StructField(\"unitprice\",IntegerType(),True)\n",
    "])"
   ]
  },
  {
   "cell_type": "code",
   "execution_count": 57,
   "id": "174c4f8b",
   "metadata": {},
   "outputs": [],
   "source": [
    "sales_df = spark.read.csv(\"sales.csv\",inferSchema=False,header=True,schema=df_schema)"
   ]
  },
  {
   "cell_type": "code",
   "execution_count": 58,
   "id": "e6b44d16",
   "metadata": {},
   "outputs": [
    {
     "name": "stdout",
     "output_type": "stream",
     "text": [
      "+---------+----------+-----------+--------+--------+---------+\n",
      "|productid|producname|   category|regionid|unitsold|unitprice|\n",
      "+---------+----------+-----------+--------+--------+---------+\n",
      "|      101|    Laptop|Electronics|    West|      10|    50000|\n",
      "|      102|    Laptop|Electronics|   North|       5|    52000|\n",
      "|      103|     Chair|  Furniture|    West|       7|     1500|\n",
      "|      104|     Table|  Furniture|    East|       3|     3000|\n",
      "|      105|    Mobile|Electronics|   South|    null|    20000|\n",
      "|      106|      Sofa|  Furniture|   South|       2|     null|\n",
      "|      107|    Laptop|Electronics|    West|       4|    51000|\n",
      "+---------+----------+-----------+--------+--------+---------+\n",
      "\n"
     ]
    }
   ],
   "source": [
    "sales_df.show()"
   ]
  },
  {
   "cell_type": "code",
   "execution_count": 61,
   "id": "f7f894cc",
   "metadata": {},
   "outputs": [],
   "source": [
    "sales_without_null = sales_df.na.drop(subset=[\"unitsold\",\"unitprice\"])"
   ]
  },
  {
   "cell_type": "code",
   "execution_count": 66,
   "id": "a333e8c7",
   "metadata": {},
   "outputs": [],
   "source": [
    "sale_with_total_sale = sales_without_null.withColumn(\"totalsale\",(sales_without_null.unitsold * sales_without_null.unitprice))"
   ]
  },
  {
   "cell_type": "code",
   "execution_count": 68,
   "id": "4b49cba6",
   "metadata": {},
   "outputs": [],
   "source": [
    "avg_sale_region_category = sale_with_total_sale.groupBy(\"category\",\"regionid\").agg(avg(\"totalsale\").alias(\"avg_sale_category_region\"))"
   ]
  },
  {
   "cell_type": "code",
   "execution_count": 71,
   "id": "f5a18d87",
   "metadata": {},
   "outputs": [
    {
     "name": "stdout",
     "output_type": "stream",
     "text": [
      "+-----------+--------+------------------------+\n",
      "|   category|regionid|avg_sale_category_region|\n",
      "+-----------+--------+------------------------+\n",
      "|  Furniture|    East|                  9000.0|\n",
      "|Electronics|   North|                260000.0|\n",
      "|  Furniture|    West|                 10500.0|\n",
      "|Electronics|    West|                352000.0|\n",
      "+-----------+--------+------------------------+\n",
      "\n"
     ]
    }
   ],
   "source": [
    "avg_sale_region_category.show()"
   ]
  },
  {
   "cell_type": "code",
   "execution_count": 73,
   "id": "45128a99",
   "metadata": {},
   "outputs": [],
   "source": [
    "category_region_sales = avg_sale_region_category.groupBy(\"category\").pivot(\"regionid\").sum(\"avg_sale_category_region\")"
   ]
  },
  {
   "cell_type": "code",
   "execution_count": 74,
   "id": "35a899f1",
   "metadata": {},
   "outputs": [],
   "source": [
    "category_region_sales = category_region_sales.fillna(0)"
   ]
  },
  {
   "cell_type": "code",
   "execution_count": 75,
   "id": "dec01c88",
   "metadata": {},
   "outputs": [
    {
     "name": "stdout",
     "output_type": "stream",
     "text": [
      "+-----------+------+--------+--------+\n",
      "|   category|  East|   North|    West|\n",
      "+-----------+------+--------+--------+\n",
      "|Electronics|   0.0|260000.0|352000.0|\n",
      "|  Furniture|9000.0|     0.0| 10500.0|\n",
      "+-----------+------+--------+--------+\n",
      "\n"
     ]
    }
   ],
   "source": [
    "category_region_sales.show()"
   ]
  },
  {
   "cell_type": "markdown",
   "id": "af874ab2",
   "metadata": {},
   "source": [
    "## Your Tasks\n",
    "\n",
    "Remove rows where either units_sold or revenue is null.\n",
    "\n",
    "Add a rank column within each category based on the revenue, in descending order.\n",
    "\n",
    "Filter the top 2 products per category based on the revenue.\n",
    "\n",
    "Show final columns: category, product_name, revenue, rank"
   ]
  },
  {
   "cell_type": "code",
   "execution_count": 77,
   "id": "00bc4603",
   "metadata": {},
   "outputs": [],
   "source": [
    "from pyspark.sql.window import Window\n",
    "from pyspark.sql.functions import row_number"
   ]
  },
  {
   "cell_type": "code",
   "execution_count": 78,
   "id": "680137c2",
   "metadata": {},
   "outputs": [
    {
     "name": "stdout",
     "output_type": "stream",
     "text": [
      "+---------+----------+-----------+--------+--------+---------+---------+\n",
      "|productid|producname|   category|regionid|unitsold|unitprice|totalsale|\n",
      "+---------+----------+-----------+--------+--------+---------+---------+\n",
      "|      101|    Laptop|Electronics|    West|      10|    50000|   500000|\n",
      "|      102|    Laptop|Electronics|   North|       5|    52000|   260000|\n",
      "|      103|     Chair|  Furniture|    West|       7|     1500|    10500|\n",
      "|      104|     Table|  Furniture|    East|       3|     3000|     9000|\n",
      "|      107|    Laptop|Electronics|    West|       4|    51000|   204000|\n",
      "+---------+----------+-----------+--------+--------+---------+---------+\n",
      "\n"
     ]
    }
   ],
   "source": [
    "sale_with_total_sale.show()"
   ]
  },
  {
   "cell_type": "code",
   "execution_count": 83,
   "id": "111b9c3b",
   "metadata": {},
   "outputs": [],
   "source": [
    "window_spec = Window.partitionBy(\"category\").orderBy(col(\"totalsale\").desc())"
   ]
  },
  {
   "cell_type": "code",
   "execution_count": 87,
   "id": "1359910b",
   "metadata": {},
   "outputs": [],
   "source": [
    "sales_with_rank = sale_with_total_sale.withColumn(\"rnk_number\",row_number().over(window_spec))"
   ]
  },
  {
   "cell_type": "code",
   "execution_count": 89,
   "id": "e8c24828",
   "metadata": {},
   "outputs": [],
   "source": [
    "top_2_products = sales_with_rank.filter(col(\"rnk_number\")<=2)"
   ]
  },
  {
   "cell_type": "code",
   "execution_count": 90,
   "id": "03987247",
   "metadata": {},
   "outputs": [
    {
     "name": "stdout",
     "output_type": "stream",
     "text": [
      "+-----------+----------+---------+----------+\n",
      "|   category|producname|totalsale|rnk_number|\n",
      "+-----------+----------+---------+----------+\n",
      "|Electronics|    Laptop|   260000|         2|\n",
      "|Electronics|    Laptop|   204000|         3|\n",
      "|  Furniture|     Table|     9000|         2|\n",
      "+-----------+----------+---------+----------+\n",
      "\n"
     ]
    }
   ],
   "source": [
    "top_2_products.select(\"category\",\"producname\",\"totalsale\",\"rnk_number\").show()"
   ]
  },
  {
   "cell_type": "code",
   "execution_count": null,
   "id": "889a2072",
   "metadata": {},
   "outputs": [],
   "source": []
  }
 ],
 "metadata": {
  "kernelspec": {
   "display_name": "Python 3 (ipykernel)",
   "language": "python",
   "name": "python3"
  },
  "language_info": {
   "codemirror_mode": {
    "name": "ipython",
    "version": 3
   },
   "file_extension": ".py",
   "mimetype": "text/x-python",
   "name": "python",
   "nbconvert_exporter": "python",
   "pygments_lexer": "ipython3",
   "version": "3.11.4"
  }
 },
 "nbformat": 4,
 "nbformat_minor": 5
}
