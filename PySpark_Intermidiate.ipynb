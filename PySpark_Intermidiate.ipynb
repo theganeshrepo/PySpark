{
 "cells": [
  {
   "cell_type": "code",
   "execution_count": 1,
   "id": "fa186841",
   "metadata": {},
   "outputs": [],
   "source": [
    "import findspark\n",
    "findspark.init()\n",
    "\n",
    "from pyspark.sql import SparkSession\n",
    "from pyspark.sql.functions import when\n",
    "from pyspark.sql.functions import count\n",
    "from pyspark.sql.types import *\n",
    "from pyspark.sql.functions import *"
   ]
  },
  {
   "cell_type": "code",
   "execution_count": 2,
   "id": "60b04fb2",
   "metadata": {},
   "outputs": [],
   "source": [
    "spark = SparkSession.builder\\\n",
    "        .appName(\"PySpark_Intermediate\")\\\n",
    "        .getOrCreate()"
   ]
  },
  {
   "cell_type": "code",
   "execution_count": 3,
   "id": "bcfc5bff",
   "metadata": {},
   "outputs": [],
   "source": [
    "people_schema = StructType([\n",
    "    StructField(\"Name\",StringType(),True),\n",
    "    StructField(\"Age\",IntegerType(),True),\n",
    "    StructField(\"City\",StringType(),True),\n",
    "    StructField(\"Salary\",IntegerType(),True),\n",
    "    StructField(\"Gender\",StringType(),True)\n",
    "])"
   ]
  },
  {
   "cell_type": "code",
   "execution_count": 4,
   "id": "9772646f",
   "metadata": {},
   "outputs": [],
   "source": [
    "df = spark.read.csv(\"People_1.csv\", header=True, inferSchema=False, schema=people_schema)"
   ]
  },
  {
   "cell_type": "code",
   "execution_count": 5,
   "id": "7ac15435",
   "metadata": {},
   "outputs": [
    {
     "name": "stdout",
     "output_type": "stream",
     "text": [
      "+-------+---+-------+------+------+\n",
      "|   Name|Age|   City|Salary|Gender|\n",
      "+-------+---+-------+------+------+\n",
      "|  Alice| 29| Mumbai| 50000|     F|\n",
      "|    Bob| 34|   Pune| 60000|     M|\n",
      "|Charlie| 25|   Pune| 45000|     M|\n",
      "|  David| 42| Mumbai| 80000|     M|\n",
      "|    Eva| 30|Chennai| 62000|     F|\n",
      "|  Frank| 38|Chennai|  null|     M|\n",
      "|  Ritch| 28| Mumbai| 68000|     M|\n",
      "|   Lory| 30|   Pune| 81000|     F|\n",
      "|   Karl| 26|   Pune| 40000|     M|\n",
      "+-------+---+-------+------+------+\n",
      "\n"
     ]
    }
   ],
   "source": [
    "df.show()"
   ]
  },
  {
   "cell_type": "markdown",
   "id": "11f92bd4",
   "metadata": {},
   "source": [
    "For each city, calculate:\n",
    "\n",
    "Total number of people\n",
    "\n",
    "Average salary\n",
    "\n",
    "Maximum salary"
   ]
  },
  {
   "cell_type": "code",
   "execution_count": null,
   "id": "ac21ed63",
   "metadata": {},
   "outputs": [],
   "source": []
  },
  {
   "cell_type": "code",
   "execution_count": 6,
   "id": "7e12bafb",
   "metadata": {},
   "outputs": [
    {
     "name": "stdout",
     "output_type": "stream",
     "text": [
      "+-------+---+-------+------+------+\n",
      "|   Name|Age|   City|Salary|Gender|\n",
      "+-------+---+-------+------+------+\n",
      "|  Alice| 29| Mumbai| 50000|     F|\n",
      "|    Bob| 34|   Pune| 60000|     M|\n",
      "|Charlie| 25|   Pune| 45000|     M|\n",
      "|  David| 42| Mumbai| 80000|     M|\n",
      "|    Eva| 30|Chennai| 62000|     F|\n",
      "|  Frank| 38|Chennai|     0|     M|\n",
      "|  Ritch| 28| Mumbai| 68000|     M|\n",
      "|   Lory| 30|   Pune| 81000|     F|\n",
      "|   Karl| 26|   Pune| 40000|     M|\n",
      "+-------+---+-------+------+------+\n",
      "\n",
      "+-------+------------+----------+----------+\n",
      "|   City|total_people|avg_salary|max_salary|\n",
      "+-------+------------+----------+----------+\n",
      "|Chennai|           2|   62000.0|     62000|\n",
      "| Mumbai|           3|   66000.0|     80000|\n",
      "|   Pune|           4|   56500.0|     81000|\n",
      "+-------+------------+----------+----------+\n",
      "\n"
     ]
    }
   ],
   "source": [
    "## Fill Null with 0 is not best practice\n",
    "\n",
    "df.fillna(0).show()\n",
    "\n",
    "df.groupBy(\"City\").agg(count(\"*\").alias(\"total_people\"),\n",
    "                      avg(\"Salary\").alias(\"avg_salary\"),\n",
    "                      max(\"Salary\").alias(\"max_salary\")).show()"
   ]
  },
  {
   "cell_type": "code",
   "execution_count": 7,
   "id": "aca6d64d",
   "metadata": {},
   "outputs": [],
   "source": [
    "# Total people count\n",
    "\n",
    "people_count_df = df.groupBy(\"City\").agg(count(\"*\").alias(\"total_people\"))"
   ]
  },
  {
   "cell_type": "code",
   "execution_count": 8,
   "id": "45cada03",
   "metadata": {},
   "outputs": [],
   "source": [
    "# Calculating average salary and max salary by filtering null values\n",
    "\n",
    "salary_df = df.filter(col(\"Salary\").isNotNull())\\\n",
    ".groupBy(\"City\").agg(avg(\"Salary\").alias(\"avg_salary\"),\n",
    "                      max(\"Salary\").alias(\"max_salary\"))"
   ]
  },
  {
   "cell_type": "code",
   "execution_count": 9,
   "id": "7cb5d02e",
   "metadata": {},
   "outputs": [
    {
     "name": "stdout",
     "output_type": "stream",
     "text": [
      "+-------+------------+----------+----------+\n",
      "|   City|total_people|avg_salary|max_salary|\n",
      "+-------+------------+----------+----------+\n",
      "|Chennai|           2|   62000.0|     62000|\n",
      "| Mumbai|           3|   66000.0|     80000|\n",
      "|   Pune|           4|   56500.0|     81000|\n",
      "+-------+------------+----------+----------+\n",
      "\n"
     ]
    }
   ],
   "source": [
    "final_df = people_count_df.join(salary_df,on=\"City\",how=\"inner\").show()"
   ]
  },
  {
   "cell_type": "markdown",
   "id": "422c7513",
   "metadata": {},
   "source": [
    "Filter out only male employees\n",
    "\n",
    "Group them by city\n",
    "\n",
    "Calculate:\n",
    "\n",
    "Number of males\n",
    "\n",
    "Average salary of males (ignore nulls)"
   ]
  },
  {
   "cell_type": "code",
   "execution_count": 10,
   "id": "3afa90cb",
   "metadata": {},
   "outputs": [
    {
     "name": "stdout",
     "output_type": "stream",
     "text": [
      "+-------+---+-------+------+------+\n",
      "|   Name|Age|   City|Salary|Gender|\n",
      "+-------+---+-------+------+------+\n",
      "|  Alice| 29| Mumbai| 50000|     F|\n",
      "|    Bob| 34|   Pune| 60000|     M|\n",
      "|Charlie| 25|   Pune| 45000|     M|\n",
      "|  David| 42| Mumbai| 80000|     M|\n",
      "|    Eva| 30|Chennai| 62000|     F|\n",
      "|  Frank| 38|Chennai|  null|     M|\n",
      "|  Ritch| 28| Mumbai| 68000|     M|\n",
      "|   Lory| 30|   Pune| 81000|     F|\n",
      "|   Karl| 26|   Pune| 40000|     M|\n",
      "+-------+---+-------+------+------+\n",
      "\n"
     ]
    }
   ],
   "source": [
    "df.show()"
   ]
  },
  {
   "cell_type": "code",
   "execution_count": 11,
   "id": "c11371ff",
   "metadata": {},
   "outputs": [],
   "source": [
    "male_count = df.filter(df.Gender==\"M\")\\\n",
    ".groupBy(\"City\").agg(count(\"*\").alias(\"Male_Count\"))"
   ]
  },
  {
   "cell_type": "code",
   "execution_count": 12,
   "id": "f022d0d8",
   "metadata": {
    "scrolled": true
   },
   "outputs": [],
   "source": [
    "avg_salary = df.filter(df.Gender=='M')\\\n",
    ".filter((df.Salary.isNotNull()))\\\n",
    ".groupBy(\"City\").agg(avg(\"Salary\").alias(\"Avg_male_salary\"))"
   ]
  },
  {
   "cell_type": "code",
   "execution_count": 13,
   "id": "62e6336c",
   "metadata": {},
   "outputs": [
    {
     "name": "stdout",
     "output_type": "stream",
     "text": [
      "+------+----------+------------------+\n",
      "|  City|Male_Count|   Avg_male_salary|\n",
      "+------+----------+------------------+\n",
      "|Mumbai|         2|           74000.0|\n",
      "|  Pune|         3|48333.333333333336|\n",
      "+------+----------+------------------+\n",
      "\n"
     ]
    }
   ],
   "source": [
    "male_city_count_avg_salry =  male_count.join(avg_salary,how='inner',on=\"City\").show()"
   ]
  },
  {
   "cell_type": "markdown",
   "id": "16b99e0a",
   "metadata": {},
   "source": [
    "Create a new column salary_status:\n",
    "\n",
    "If salary ≥ 60000 → \"High\"\n",
    "\n",
    "If salary between 40000 and 59999 → \"Medium\"\n",
    "\n",
    "If salary < 40000 → \"Low\"\n",
    "\n",
    "If salary is null → \"Unknown\"\n",
    "\n",
    "Display the columns: name, city, salary, salary_status"
   ]
  },
  {
   "cell_type": "code",
   "execution_count": 14,
   "id": "e279e766",
   "metadata": {},
   "outputs": [],
   "source": [
    "df = df.withColumn(\"Salary_Status\",when(df.Salary>=60000,\"High\")\n",
    "                              .when((df.Salary>=40000) & (df.Salary<=59999),\"Medium\")\n",
    "                              .when((df.Salary<40000),\"Low\")\n",
    "                              .when((df.Salary.isNull()),\"Unknown\"))\n",
    "add_salary_status_column = df.select(\"Name\",\"City\",\"Salary\",\"Salary_Status\")"
   ]
  },
  {
   "cell_type": "markdown",
   "id": "93ba5dd9",
   "metadata": {},
   "source": [
    "Group by both City and Gender\n",
    "\n",
    "Calculate:\n",
    "\n",
    "Total number of people\n",
    "\n",
    "Average salary per group (excluding nulls)\n",
    "\n",
    "Final output columns:\n",
    "\n",
    "nginx\n",
    "Copy\n",
    "Edit\n",
    "City | Gender | People_Count | Avg_Salary"
   ]
  },
  {
   "cell_type": "code",
   "execution_count": 15,
   "id": "51d57667",
   "metadata": {},
   "outputs": [],
   "source": [
    "city_gender_wise_cont = df.groupBy(\"City\",\"Gender\").agg(count(\"*\").alias(\"People_Count\"))"
   ]
  },
  {
   "cell_type": "code",
   "execution_count": 16,
   "id": "0c9e9367",
   "metadata": {},
   "outputs": [],
   "source": [
    "city_gender_wise_avg_salary_without_null = df.filter(df.Salary.isNotNull())\\\n",
    ".groupBy(\"City\",\"Gender\").agg(avg(\"Salary\").alias(\"Avg_Salary\"))"
   ]
  },
  {
   "cell_type": "code",
   "execution_count": 17,
   "id": "99027391",
   "metadata": {},
   "outputs": [],
   "source": [
    "city_gender_wise_avg_salary = city_gender_wise_cont.join(city_gender_wise_avg_salary_without_null,how='left',on=['City','Gender'])"
   ]
  },
  {
   "cell_type": "code",
   "execution_count": 18,
   "id": "c29b0862",
   "metadata": {},
   "outputs": [],
   "source": [
    "city_gender_wise_avg_salary = city_gender_wise_avg_salary.fillna({\"Avg_Salary\":0})"
   ]
  },
  {
   "cell_type": "code",
   "execution_count": 19,
   "id": "972f9a84",
   "metadata": {},
   "outputs": [
    {
     "name": "stdout",
     "output_type": "stream",
     "text": [
      "+-------+------+------------+------------------+\n",
      "|   City|Gender|People_Count|        Avg_Salary|\n",
      "+-------+------+------------+------------------+\n",
      "|Chennai|     F|           1|           62000.0|\n",
      "| Mumbai|     F|           1|           50000.0|\n",
      "|   Pune|     M|           3|48333.333333333336|\n",
      "|   Pune|     F|           1|           81000.0|\n",
      "|Chennai|     M|           1|               0.0|\n",
      "| Mumbai|     M|           2|           74000.0|\n",
      "+-------+------+------------+------------------+\n",
      "\n"
     ]
    }
   ],
   "source": [
    "city_gender_wise_avg_salary.show()"
   ]
  },
  {
   "cell_type": "code",
   "execution_count": 20,
   "id": "a944159b",
   "metadata": {},
   "outputs": [
    {
     "name": "stdout",
     "output_type": "stream",
     "text": [
      "+-------+-------+------+-------------+\n",
      "|   Name|   City|Salary|Salary_Status|\n",
      "+-------+-------+------+-------------+\n",
      "|  Alice| Mumbai| 50000|       Medium|\n",
      "|    Bob|   Pune| 60000|         High|\n",
      "|Charlie|   Pune| 45000|       Medium|\n",
      "|  David| Mumbai| 80000|         High|\n",
      "|    Eva|Chennai| 62000|         High|\n",
      "|  Frank|Chennai|  null|      Unknown|\n",
      "|  Ritch| Mumbai| 68000|         High|\n",
      "|   Lory|   Pune| 81000|         High|\n",
      "|   Karl|   Pune| 40000|       Medium|\n",
      "+-------+-------+------+-------------+\n",
      "\n"
     ]
    }
   ],
   "source": [
    "add_salary_status_column.show()"
   ]
  },
  {
   "cell_type": "code",
   "execution_count": 21,
   "id": "f7a56236",
   "metadata": {},
   "outputs": [],
   "source": [
    "#city wise count\n",
    "city_wise_count = add_salary_status_column.groupBy(\"City\").agg(count(\"*\").alias(\"Peoples_In_City\"))"
   ]
  },
  {
   "cell_type": "code",
   "execution_count": 22,
   "id": "826da22b",
   "metadata": {},
   "outputs": [],
   "source": [
    "people_by_salary_status_count = add_salary_status_column.groupBy(\"City\",\"Salary_Status\").agg(count(\"*\").alias(\"Total_People\"))"
   ]
  },
  {
   "cell_type": "code",
   "execution_count": 23,
   "id": "46eb3cc5",
   "metadata": {},
   "outputs": [],
   "source": [
    "people_by_salary_status = people_by_salary_status_count.join(city_wise_count,how='left',on=['City'])"
   ]
  },
  {
   "cell_type": "code",
   "execution_count": 26,
   "id": "c5f70cbc",
   "metadata": {},
   "outputs": [],
   "source": [
    "people_by_salary_status_percentage = people_by_salary_status.withColumn(\"%_Percentage\",round((col(\"Total_People\")/col(\"Peoples_In_City\"))*100,2))"
   ]
  },
  {
   "cell_type": "code",
   "execution_count": 28,
   "id": "dc67c8e4",
   "metadata": {},
   "outputs": [
    {
     "name": "stdout",
     "output_type": "stream",
     "text": [
      "+-------+-------------+------------+---------------+------------+\n",
      "|   City|Salary_Status|Total_People|Peoples_In_City|%_Percentage|\n",
      "+-------+-------------+------------+---------------+------------+\n",
      "|Chennai|      Unknown|           1|              2|        50.0|\n",
      "| Mumbai|       Medium|           1|              3|       33.33|\n",
      "|   Pune|         High|           2|              4|        50.0|\n",
      "| Mumbai|         High|           2|              3|       66.67|\n",
      "|   Pune|       Medium|           2|              4|        50.0|\n",
      "|Chennai|         High|           1|              2|        50.0|\n",
      "+-------+-------------+------------+---------------+------------+\n",
      "\n"
     ]
    }
   ],
   "source": [
    "people_by_salary_status_percentage.show()"
   ]
  },
  {
   "cell_type": "code",
   "execution_count": 36,
   "id": "8af37b38",
   "metadata": {},
   "outputs": [],
   "source": [
    "temp_df = people_by_salary_status_percentage.groupBy(\"City\").pivot(\"Salary_Status\").sum(\"%_Percentage\")"
   ]
  },
  {
   "cell_type": "code",
   "execution_count": 37,
   "id": "a22082ae",
   "metadata": {},
   "outputs": [
    {
     "name": "stdout",
     "output_type": "stream",
     "text": [
      "+-------+-----+------+-------+\n",
      "|   City| High|Medium|Unknown|\n",
      "+-------+-----+------+-------+\n",
      "|Chennai| 50.0|  null|   50.0|\n",
      "| Mumbai|66.67| 33.33|   null|\n",
      "|   Pune| 50.0|  50.0|   null|\n",
      "+-------+-----+------+-------+\n",
      "\n"
     ]
    }
   ],
   "source": [
    "temp_df.show()"
   ]
  },
  {
   "cell_type": "code",
   "execution_count": null,
   "id": "25770ed2",
   "metadata": {},
   "outputs": [],
   "source": []
  }
 ],
 "metadata": {
  "kernelspec": {
   "display_name": "Python 3 (ipykernel)",
   "language": "python",
   "name": "python3"
  },
  "language_info": {
   "codemirror_mode": {
    "name": "ipython",
    "version": 3
   },
   "file_extension": ".py",
   "mimetype": "text/x-python",
   "name": "python",
   "nbconvert_exporter": "python",
   "pygments_lexer": "ipython3",
   "version": "3.11.4"
  }
 },
 "nbformat": 4,
 "nbformat_minor": 5
}
