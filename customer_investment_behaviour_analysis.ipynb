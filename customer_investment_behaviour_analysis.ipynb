{
 "cells": [
  {
   "cell_type": "markdown",
   "id": "57aae796-09bd-41de-9441-db1f53ad2dc1",
   "metadata": {},
   "source": [
    "# 🔍 Tasks/Questions to Solve (Project Style)\n",
    "## Net Position Summary\n",
    "\n",
    "For each customer and security, calculate total quantity bought and sold, and their net position.\n",
    "\n",
    "Identify whether the customer still holds that stock or has exited.\n",
    "\n",
    "## Top Performing Securities by Profit\n",
    "\n",
    "Calculate realized profit per transaction (only for SELL).\n",
    "\n",
    "Identify top 3 most profitable securities per customer using row_number or dense_rank.\n",
    "\n",
    "## Broker Usage Analysis\n",
    "\n",
    "Count how many different brokers each customer used.\n",
    "\n",
    "Most frequently used broker per customer.\n",
    "\n",
    "## Investment Timeline\n",
    "\n",
    "Find the first and last transaction date per customer.\n",
    "\n",
    "Calculate the average time between successive transactions.\n",
    "\n",
    "## High Frequency Traders\n",
    "\n",
    "Find customers with more than 3 transactions in any 30-day window using window + datediff.\n",
    "\n",
    "Running Total of Investment Amount\n",
    "\n",
    "Running total of BUY amount per customer over time using sum over Window.partitionBy().orderBy().\n",
    "\n",
    "## Price Trend per Security\n",
    "\n",
    "Calculate the average and max price of each security over time.\n",
    "\n",
    "## Security Holding Duration\n",
    "\n",
    "For each complete BUY → SELL pair (same quantity, security, customer), compute holding period in days."
   ]
  },
  {
   "cell_type": "code",
   "execution_count": 1,
   "id": "05f140d6-5bb5-4afa-ad37-5c1ce9a9291a",
   "metadata": {},
   "outputs": [],
   "source": [
    "import findspark\n",
    "findspark.init()"
   ]
  },
  {
   "cell_type": "code",
   "execution_count": 2,
   "id": "4b17e2ba-6395-4e12-bcf6-20c4d8774948",
   "metadata": {},
   "outputs": [],
   "source": [
    "from pyspark.sql import SparkSession\n",
    "from pyspark.sql.types import *\n",
    "from pyspark.sql.functions import *\n",
    "from pyspark.sql.window import *\n",
    "import os"
   ]
  },
  {
   "cell_type": "code",
   "execution_count": 3,
   "id": "87f92569-2522-427c-ae52-82307843af11",
   "metadata": {},
   "outputs": [],
   "source": [
    "# Manually set SPARK_HOME (fixing the incorrect path issue)\n",
    "os.environ[\"SPARK_HOME\"] = \"C:\\\\spark\\\\spark-3.3.2-bin-hadoop2\""
   ]
  },
  {
   "cell_type": "code",
   "execution_count": 4,
   "id": "053b8548-9025-4707-9b92-315b03f33bf0",
   "metadata": {},
   "outputs": [],
   "source": [
    "spark = SparkSession.builder\\\n",
    "        .appName('project_1')\\\n",
    "        .getOrCreate()"
   ]
  },
  {
   "cell_type": "code",
   "execution_count": 5,
   "id": "8f893d24-b042-43d5-a20b-577c87095d89",
   "metadata": {},
   "outputs": [],
   "source": [
    "trasanction_schema = StructType([\n",
    "    StructField(\"transaction_id\",StringType(),True),\n",
    "    StructField(\"customer_id\",StringType(),True),\n",
    "    StructField(\"security_name\",StringType(),True),\n",
    "    StructField(\"transaction_type\",StringType(),True),\n",
    "    StructField(\"quantity\",IntegerType(),True),\n",
    "    StructField(\"price\",IntegerType(),True),\n",
    "    StructField(\"broker\",StringType(),True),\n",
    "    StructField(\"transacstion_date\",DateType(),True)\n",
    "])"
   ]
  },
  {
   "cell_type": "code",
   "execution_count": 6,
   "id": "326e7aa8-fd80-4793-adb8-3e59e12b3ca8",
   "metadata": {},
   "outputs": [],
   "source": [
    "transaction_raw_df = spark.read.csv(\"transactions.csv\",header=True,schema=trasanction_schema)"
   ]
  },
  {
   "cell_type": "code",
   "execution_count": 7,
   "id": "ad389b2d-d6eb-46d6-b107-64b43b03eac1",
   "metadata": {},
   "outputs": [
    {
     "name": "stdout",
     "output_type": "stream",
     "text": [
      "+--------------+-----------+-------------+----------------+--------+-----+--------+-----------------+\n",
      "|transaction_id|customer_id|security_name|transaction_type|quantity|price|  broker|transacstion_date|\n",
      "+--------------+-----------+-------------+----------------+--------+-----+--------+-----------------+\n",
      "|            T1|       C001|         INFY|             BUY|      10| 1500| Zerodha|       2023-01-15|\n",
      "|            T2|       C001|         INFY|            SELL|      10| 1600| Zerodha|       2023-03-10|\n",
      "|            T3|       C001|          TCS|             BUY|       5| 3200|   Groww|       2023-01-20|\n",
      "|            T4|       C001|          TCS|            SELL|       5| 3100|   Groww|       2023-05-01|\n",
      "|            T5|       C002|         HDFC|             BUY|       8| 2400|  Upstox|       2023-01-01|\n",
      "|            T6|       C002|         HDFC|            SELL|       4| 2500| Zerodha|       2023-02-15|\n",
      "|            T7|       C002|         HDFC|            SELL|       4| 2550|  Upstox|       2023-03-20|\n",
      "|            T8|       C002|         INFY|             BUY|       6| 1500|   Groww|       2023-02-10|\n",
      "|            T9|       C002|         INFY|             BUY|       2| 1480|   Groww|       2023-02-15|\n",
      "|           T10|       C002|         INFY|            SELL|       8| 1550|   Groww|       2023-03-01|\n",
      "|           T11|       C003|     RELIANCE|             BUY|      10| 2100|AngelOne|       2023-06-01|\n",
      "|           T12|       C003|     RELIANCE|             BUY|       5| 2150|AngelOne|       2023-06-05|\n",
      "|           T13|       C003|     RELIANCE|            SELL|      15| 2300|AngelOne|       2023-07-10|\n",
      "|           T14|       C003|          TCS|             BUY|      10| 3100| Zerodha|       2023-06-07|\n",
      "|           T15|       C003|          TCS|            SELL|      10| 3050| Zerodha|       2023-06-30|\n",
      "+--------------+-----------+-------------+----------------+--------+-----+--------+-----------------+\n",
      "\n"
     ]
    }
   ],
   "source": [
    "transaction_raw_df.show()"
   ]
  },
  {
   "cell_type": "code",
   "execution_count": null,
   "id": "49ff52e3-6fc0-468c-92c5-ce4ca3bf7117",
   "metadata": {},
   "outputs": [],
   "source": [
    "### Net Position Summary\n",
    "### For each customer and security, calculate total quantity bought and sold, and their net position."
   ]
  },
  {
   "cell_type": "code",
   "execution_count": 8,
   "id": "3b2b38c3-806b-4663-9bd4-507ba54bd68e",
   "metadata": {},
   "outputs": [],
   "source": [
    "buy_transaction_df = transaction_raw_df.filter(col(\"transaction_type\")=='BUY')"
   ]
  },
  {
   "cell_type": "code",
   "execution_count": 9,
   "id": "0543169c-ebf2-4f09-b6b6-0822a0b7f075",
   "metadata": {},
   "outputs": [],
   "source": [
    "buy_transaction_df = buy_transaction_df.withColumnRenamed(\"price\",\"buy_price\")\n",
    "buy_transaction_df = buy_transaction_df.withColumnRenamed(\"quantity\",\"buy_quantity\")"
   ]
  },
  {
   "cell_type": "code",
   "execution_count": 10,
   "id": "2bcb1252-9b83-4236-af9c-4e313aeaa6cd",
   "metadata": {},
   "outputs": [],
   "source": [
    "sell_transaction_df = transaction_raw_df.filter(col(\"transaction_type\")=='SELL')"
   ]
  },
  {
   "cell_type": "code",
   "execution_count": 11,
   "id": "8ec30ea5-20f0-4e74-aad6-7bed153489a5",
   "metadata": {},
   "outputs": [],
   "source": [
    "sell_transaction_df = sell_transaction_df.withColumnRenamed(\"price\",\"sell_price\")\n",
    "sell_transaction_df = sell_transaction_df.withColumnRenamed(\"quantity\",\"sell_quantity\")"
   ]
  },
  {
   "cell_type": "code",
   "execution_count": 19,
   "id": "27b57ecc-6bc9-44e4-aaaa-8f83215ed80b",
   "metadata": {},
   "outputs": [],
   "source": [
    "agg_buy_transaction_df = buy_transaction_df.groupBy('customer_id','transaction_type','security_name').agg(sum(col(\"buy_quantity\")).alias('buy_quantity'),sum(\"buy_price\").alias('buy_price'))"
   ]
  },
  {
   "cell_type": "code",
   "execution_count": 21,
   "id": "0cd61b83-6c9c-49ac-af89-32aeb4f4a8e7",
   "metadata": {},
   "outputs": [],
   "source": [
    "agg_sell_transaction_df = sell_transaction_df.groupBy('customer_id','transaction_type','security_name').agg(sum(col(\"sell_quantity\")).alias('sell_quantity'),sum('sell_price').alias('sell_price'))"
   ]
  },
  {
   "cell_type": "code",
   "execution_count": 23,
   "id": "a0dabd3d-0e1b-4285-8926-fe6e8455fbc2",
   "metadata": {},
   "outputs": [],
   "source": [
    "buy_sell_txn_df = agg_buy_transaction_df.join(agg_sell_transaction_df,how='left',on=['customer_id','security_name'])"
   ]
  },
  {
   "cell_type": "code",
   "execution_count": 25,
   "id": "32713258-9547-4ae5-a7b9-5c244c1327cd",
   "metadata": {},
   "outputs": [],
   "source": [
    "buy_sell_fillna = buy_sell_txn_df.fillna(0)"
   ]
  },
  {
   "cell_type": "code",
   "execution_count": 119,
   "id": "0ed27dce-8d23-4f61-bd62-acc5cc3939f0",
   "metadata": {},
   "outputs": [],
   "source": [
    "net_quantity = buy_sell_fillna.withColumn(\"net_quantity\",(col(\"buy_quantity\") - col(\"sell_quantity\")))"
   ]
  },
  {
   "cell_type": "code",
   "execution_count": null,
   "id": "5e8b1b0d-d769-4cfa-8ce7-d0bcce879719",
   "metadata": {},
   "outputs": [],
   "source": []
  },
  {
   "cell_type": "code",
   "execution_count": 27,
   "id": "774e63d7-589e-4ee3-9568-a1756502422a",
   "metadata": {},
   "outputs": [],
   "source": [
    "## Top Performing Securities by Profit\n",
    "\n",
    "#Calculate realized profit per transaction (only for SELL).\n",
    "\n",
    "#Identify top 3 most profitable securities per customer using row_number or dense_rank."
   ]
  },
  {
   "cell_type": "code",
   "execution_count": 31,
   "id": "1bf1e6ba-0f47-4034-b36a-9c534877fd84",
   "metadata": {},
   "outputs": [],
   "source": [
    "net_profit_df = buy_sell_txn_df.withColumn(\"net_profit\",(col(\"sell_price\")-col(\"buy_price\")))"
   ]
  },
  {
   "cell_type": "code",
   "execution_count": 33,
   "id": "ed68e69d-0cfa-41bc-a7f4-786b58c258b1",
   "metadata": {},
   "outputs": [],
   "source": [
    "window = Window.partitionBy('customer_id').orderBy(col('net_profit').desc())"
   ]
  },
  {
   "cell_type": "code",
   "execution_count": 35,
   "id": "591d7a39-62e6-4dc0-80bc-22a9412a6e6d",
   "metadata": {},
   "outputs": [],
   "source": [
    "net_profit_rnk_df = net_profit_df.withColumn('rnk',row_number().over(window))"
   ]
  },
  {
   "cell_type": "code",
   "execution_count": 37,
   "id": "16d2c324-4d66-4785-9810-286e3940e878",
   "metadata": {},
   "outputs": [],
   "source": [
    "top_3_security_by_cust = net_profit_rnk_df.filter(col(\"rnk\")<=3)"
   ]
  },
  {
   "cell_type": "code",
   "execution_count": null,
   "id": "9501bc46-b113-42ce-9300-16f62a9b8816",
   "metadata": {},
   "outputs": [],
   "source": []
  },
  {
   "cell_type": "code",
   "execution_count": 38,
   "id": "3d8b8114-4384-4942-baee-ad27e22cbc70",
   "metadata": {},
   "outputs": [],
   "source": [
    "## Broker Usage Analysis\n",
    "## Count how many different brokers each customer used.\n",
    "## Most frequently used broker per customer."
   ]
  },
  {
   "cell_type": "code",
   "execution_count": 44,
   "id": "65beeabc-84ed-4f5a-9e0e-2f758677ebf5",
   "metadata": {},
   "outputs": [],
   "source": [
    "cust_brk_cnt = transaction_raw_df.groupBy(\"customer_id\",\"broker\").agg(count('broker'))"
   ]
  },
  {
   "cell_type": "code",
   "execution_count": 47,
   "id": "1a26bb8f-da80-4746-96ec-4d4591488e34",
   "metadata": {},
   "outputs": [],
   "source": [
    "cust_broker_df = cust_brk_cnt.groupby('customer_id').agg(count('broker').alias('no_of_brokers'))"
   ]
  },
  {
   "cell_type": "code",
   "execution_count": null,
   "id": "c06b7fea-a34a-4570-a0d1-88538c82aa12",
   "metadata": {},
   "outputs": [],
   "source": []
  },
  {
   "cell_type": "code",
   "execution_count": 48,
   "id": "60eec9dd-91e4-4d48-a986-713442778b0a",
   "metadata": {},
   "outputs": [],
   "source": [
    "# Investment Timeline\n",
    "# Find the first and last transaction date per customer.\n",
    "\n",
    "# Calculate the average time between successive transactions."
   ]
  },
  {
   "cell_type": "code",
   "execution_count": 53,
   "id": "1a3be0f3-3931-425b-aaaf-c943667f9ded",
   "metadata": {},
   "outputs": [],
   "source": [
    "cust_first_last_txn_df = transaction_raw_df.groupBy('customer_id').agg(min(col('transacstion_date')).alias('first_transaction_date'),max(col('transacstion_date')).alias('last_transaction_date'))"
   ]
  },
  {
   "cell_type": "code",
   "execution_count": 54,
   "id": "4d7b14c6-08e2-4136-82d1-cdda11ea2d67",
   "metadata": {},
   "outputs": [],
   "source": [
    "window1 = Window.partitionBy(col('customer_id')).orderBy(col('transacstion_date').asc())"
   ]
  },
  {
   "cell_type": "code",
   "execution_count": 59,
   "id": "567dcb41-be8a-467c-9699-2d8826508670",
   "metadata": {},
   "outputs": [],
   "source": [
    "prev_txn_date_df = transaction_raw_df.withColumn('previous_transaction_date',lag(\"transacstion_date\").over(window1))"
   ]
  },
  {
   "cell_type": "code",
   "execution_count": 62,
   "id": "aaf40ba8-63a6-459b-9003-3ad63b74f57a",
   "metadata": {},
   "outputs": [],
   "source": [
    "date_diff_df = prev_txn_date_df.withColumn('date_difference',datediff(col(\"transacstion_date\"),col(\"previous_transaction_date\")))"
   ]
  },
  {
   "cell_type": "code",
   "execution_count": 65,
   "id": "73354070-78cc-4a4c-bd68-0bb4104b95dc",
   "metadata": {},
   "outputs": [],
   "source": [
    "drop_null_date_diff_df = date_diff_df.filter(col(\"date_difference\").isNotNull())"
   ]
  },
  {
   "cell_type": "code",
   "execution_count": 70,
   "id": "077a2357-23fd-48de-8b98-f8809ecda901",
   "metadata": {},
   "outputs": [],
   "source": [
    "avg_diff_df = drop_null_date_diff_df.groupBy('customer_id').agg(round(avg(col(\"date_difference\")),2).alias(\"average_time_between_successive_transaction\"))"
   ]
  },
  {
   "cell_type": "code",
   "execution_count": null,
   "id": "33381ce1-920d-4507-b14c-50902f4a2c2e",
   "metadata": {},
   "outputs": [],
   "source": []
  },
  {
   "cell_type": "code",
   "execution_count": null,
   "id": "5d4b7278-65d7-45a3-99b4-4ba02347668d",
   "metadata": {},
   "outputs": [],
   "source": [
    "## Price Trend per Security\n",
    "\n",
    "# Calculate the average and max price of each security over time."
   ]
  },
  {
   "cell_type": "code",
   "execution_count": 77,
   "id": "04ff8c99-e600-40ae-aa61-eeff1bd62762",
   "metadata": {},
   "outputs": [],
   "source": [
    "avg_price_df = transaction_raw_df.groupBy('security_name').agg(max(col(\"price\")).alias('max_price'),round(avg(col(\"price\")),2).alias(\"average_price\"))"
   ]
  },
  {
   "cell_type": "code",
   "execution_count": null,
   "id": "3aa4e1e5-3b61-4124-a920-3055b9688730",
   "metadata": {},
   "outputs": [],
   "source": []
  },
  {
   "cell_type": "code",
   "execution_count": 79,
   "id": "73d906ee-2110-4fc0-b4ef-d71c66985b7c",
   "metadata": {},
   "outputs": [],
   "source": [
    "## Security Holding Duration\n",
    "\n",
    "# For each complete BUY → SELL pair (same quantity, security, customer), compute holding period in days."
   ]
  },
  {
   "cell_type": "code",
   "execution_count": 81,
   "id": "963c5896-ade1-4099-8828-1db69d4d2d69",
   "metadata": {},
   "outputs": [],
   "source": [
    "buy_transaction_df_1 = buy_transaction_df.withColumnRenamed(\"transacstion_date\",\"buy_date\")\n",
    "sell_transaction_df_1 = sell_transaction_df.withColumnRenamed(\"transacstion_date\",\"sell_date\")"
   ]
  },
  {
   "cell_type": "code",
   "execution_count": 89,
   "id": "232d2e58-c28b-4654-a957-1899c4479f32",
   "metadata": {},
   "outputs": [],
   "source": [
    "buy_transactions = buy_transaction_df_1.groupBy('customer_id', 'security_name', 'transaction_type').agg(sum(col('buy_quantity')).alias('buy_quantity'),sum(col('buy_price')).alias('buy_price'),max(col('buy_date')).alias('buy_date'))"
   ]
  },
  {
   "cell_type": "code",
   "execution_count": 95,
   "id": "b550e7bb-c571-4726-9e42-b96ebc4e9acb",
   "metadata": {},
   "outputs": [],
   "source": [
    "sell_transactions = sell_transaction_df_1.groupBy('customer_id', 'security_name', 'transaction_type').agg(sum(col('sell_quantity')).alias('sell_quantity'),sum(col('sell_price')).alias('sell_price'),max(col('sell_date')).alias('sell_date'))"
   ]
  },
  {
   "cell_type": "code",
   "execution_count": 98,
   "id": "3a584b1f-e8c4-41cd-b805-8983095d8436",
   "metadata": {},
   "outputs": [],
   "source": [
    "merge_buy_sell_df = buy_transactions.join(sell_transactions,how='inner',on=['customer_id','security_name'])"
   ]
  },
  {
   "cell_type": "code",
   "execution_count": 102,
   "id": "e35b881f-3ab4-4a19-8f01-240db3e758de",
   "metadata": {},
   "outputs": [],
   "source": [
    "txn_holding_days_df = merge_buy_sell_df.withColumn(\"holding_period_days\",(datediff(col(\"sell_date\"),col(\"buy_date\"))))"
   ]
  },
  {
   "cell_type": "code",
   "execution_count": null,
   "id": "5ba7dc6a-57fc-4ff2-b924-955a80018867",
   "metadata": {},
   "outputs": [],
   "source": []
  },
  {
   "cell_type": "code",
   "execution_count": null,
   "id": "deaabfc9-8477-48f9-a665-b0817a1ffa06",
   "metadata": {},
   "outputs": [],
   "source": [
    "## High Frequency Traders\n",
    "\n",
    "# Find customers with more than 3 transactions in any 30-day window using window + datediff.\n",
    "\n",
    "# Running Total of Investment Amount\n",
    "\n",
    "# Running total of BUY amount per customer over time using sum over Window.partitionBy().orderBy()."
   ]
  },
  {
   "cell_type": "code",
   "execution_count": 115,
   "id": "a0e6427d-ef47-4c06-940d-a931390c2a42",
   "metadata": {},
   "outputs": [],
   "source": [
    "window2 = Window.partitionBy('customer_id').orderBy('transacstion_date')"
   ]
  },
  {
   "cell_type": "code",
   "execution_count": 118,
   "id": "90152367-1105-4ba4-a1b9-e4932d7a3eb9",
   "metadata": {},
   "outputs": [],
   "source": [
    "running_total_amount_df = buy_transaction_df.withColumn(\"running_total\",sum('buy_price').over(window2))"
   ]
  },
  {
   "cell_type": "code",
   "execution_count": 122,
   "id": "21082924-efe0-4a03-95df-3f05280add4c",
   "metadata": {},
   "outputs": [
    {
     "name": "stdout",
     "output_type": "stream",
     "text": [
      "+-----------+-------------+----------------+------------+---------+----------------+-------------+----------+------------+\n",
      "|customer_id|security_name|transaction_type|buy_quantity|buy_price|transaction_type|sell_quantity|sell_price|net_quantity|\n",
      "+-----------+-------------+----------------+------------+---------+----------------+-------------+----------+------------+\n",
      "|       C002|         HDFC|             BUY|           8|     2400|            SELL|            8|      5050|           0|\n",
      "|       C003|          TCS|             BUY|          10|     3100|            SELL|           10|      3050|           0|\n",
      "|       C001|         INFY|             BUY|          10|     1500|            SELL|           10|      1600|           0|\n",
      "|       C001|          TCS|             BUY|           5|     3200|            SELL|            5|      3100|           0|\n",
      "|       C002|         INFY|             BUY|           8|     2980|            SELL|            8|      1550|           0|\n",
      "|       C003|     RELIANCE|             BUY|          15|     4250|            SELL|           15|      2300|           0|\n",
      "+-----------+-------------+----------------+------------+---------+----------------+-------------+----------+------------+\n",
      "\n"
     ]
    }
   ],
   "source": [
    "net_quantity.show()"
   ]
  },
  {
   "cell_type": "code",
   "execution_count": 121,
   "id": "564ef6d2-e009-4f01-928c-fd88b660e0c0",
   "metadata": {},
   "outputs": [
    {
     "name": "stdout",
     "output_type": "stream",
     "text": [
      "+-----------+-------------+----------------+------------+---------+----------------+-------------+----------+\n",
      "|customer_id|security_name|transaction_type|buy_quantity|buy_price|transaction_type|sell_quantity|sell_price|\n",
      "+-----------+-------------+----------------+------------+---------+----------------+-------------+----------+\n",
      "|       C002|         HDFC|             BUY|           8|     2400|            SELL|            8|      5050|\n",
      "|       C003|          TCS|             BUY|          10|     3100|            SELL|           10|      3050|\n",
      "|       C001|         INFY|             BUY|          10|     1500|            SELL|           10|      1600|\n",
      "|       C001|          TCS|             BUY|           5|     3200|            SELL|            5|      3100|\n",
      "|       C002|         INFY|             BUY|           8|     2980|            SELL|            8|      1550|\n",
      "|       C003|     RELIANCE|             BUY|          15|     4250|            SELL|           15|      2300|\n",
      "+-----------+-------------+----------------+------------+---------+----------------+-------------+----------+\n",
      "\n"
     ]
    }
   ],
   "source": [
    "merge_agg_bu_sell_df = agg_buy_transaction_df.join(agg_sell_transaction_df,how='left',on=['customer_id','security_name'])"
   ]
  },
  {
   "cell_type": "code",
   "execution_count": null,
   "id": "78d0a570-fd61-42d1-b86b-636230cd88e8",
   "metadata": {},
   "outputs": [],
   "source": [
    "net_quantity.filter('')"
   ]
  }
 ],
 "metadata": {
  "kernelspec": {
   "display_name": "PySpark Kernel",
   "language": "python",
   "name": "python3"
  },
  "language_info": {
   "codemirror_mode": {
    "name": "ipython",
    "version": 3
   },
   "file_extension": ".py",
   "mimetype": "text/x-python",
   "name": "python",
   "nbconvert_exporter": "python",
   "pygments_lexer": "ipython3",
   "version": "3.11.9"
  }
 },
 "nbformat": 4,
 "nbformat_minor": 5
}
