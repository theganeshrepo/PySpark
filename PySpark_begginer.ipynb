{
 "cells": [
  {
   "cell_type": "code",
   "execution_count": 1,
   "id": "d5997bf8",
   "metadata": {},
   "outputs": [],
   "source": [
    "# pip install pyspark"
   ]
  },
  {
   "cell_type": "code",
   "execution_count": 2,
   "id": "25e8353d",
   "metadata": {},
   "outputs": [],
   "source": [
    "# pip install pyspark findspark"
   ]
  },
  {
   "cell_type": "code",
   "execution_count": 3,
   "id": "130765b3",
   "metadata": {},
   "outputs": [],
   "source": [
    "import findspark\n",
    "findspark.init()\n",
    "\n",
    "from pyspark.sql import SparkSession\n",
    "from pyspark.sql.functions import when\n",
    "from pyspark.sql.functions import count\n",
    "from pyspark.sql.types import *\n",
    "from pyspark.sql.functions import *"
   ]
  },
  {
   "cell_type": "code",
   "execution_count": 4,
   "id": "971dfdc3",
   "metadata": {},
   "outputs": [],
   "source": [
    "spark = SparkSession.builder\\\n",
    "        .appName(\"Day1_Spark_Basics\")\\\n",
    "        .getOrCreate()"
   ]
  },
  {
   "cell_type": "code",
   "execution_count": 5,
   "id": "75aa647c",
   "metadata": {},
   "outputs": [],
   "source": [
    "people_schema = StructType([\n",
    "    StructField(\"Name\",StringType(),True),\n",
    "    StructField(\"Age\",IntegerType(),True),\n",
    "    StructField(\"City\",StringType(),True)\n",
    "])"
   ]
  },
  {
   "cell_type": "code",
   "execution_count": 6,
   "id": "ec751d97",
   "metadata": {},
   "outputs": [],
   "source": [
    "df = spark.read.csv(\"people.csv\", header=True, inferSchema=False, schema=people_schema)"
   ]
  },
  {
   "cell_type": "code",
   "execution_count": 7,
   "id": "a0bf4358",
   "metadata": {
    "scrolled": true
   },
   "outputs": [
    {
     "name": "stdout",
     "output_type": "stream",
     "text": [
      "+-------+----+---------+\n",
      "|   Name| Age|     City|\n",
      "+-------+----+---------+\n",
      "|  Alice|  29|   Mumbai|\n",
      "|    Bob|  34|     Pune|\n",
      "|Charlie|  25|    Delhi|\n",
      "|  David|  42|   Mumbai|\n",
      "|    Eva|  30|  Chennai|\n",
      "|    Tom|null|Ahmedabad|\n",
      "+-------+----+---------+\n",
      "\n"
     ]
    }
   ],
   "source": [
    "df.show()"
   ]
  },
  {
   "cell_type": "code",
   "execution_count": 8,
   "id": "eb4fbe6d",
   "metadata": {
    "scrolled": true
   },
   "outputs": [
    {
     "name": "stdout",
     "output_type": "stream",
     "text": [
      "+---------+------------+\n",
      "|City     |total_people|\n",
      "+---------+------------+\n",
      "|Chennai  |1           |\n",
      "|Mumbai   |2           |\n",
      "|Ahmedabad|1           |\n",
      "|Pune     |1           |\n",
      "|Delhi    |1           |\n",
      "+---------+------------+\n",
      "\n"
     ]
    }
   ],
   "source": [
    "df.groupBy(\"City\") \\\n",
    "  .agg(count(\"*\").alias(\"total_people\")) \\\n",
    "  .show(truncate=False)"
   ]
  },
  {
   "cell_type": "code",
   "execution_count": 9,
   "id": "2d8e507e",
   "metadata": {},
   "outputs": [
    {
     "name": "stdout",
     "output_type": "stream",
     "text": [
      "+---------+-----+\n",
      "|City     |count|\n",
      "+---------+-----+\n",
      "|Chennai  |1    |\n",
      "|Mumbai   |2    |\n",
      "|Ahmedabad|1    |\n",
      "|Pune     |1    |\n",
      "|Delhi    |1    |\n",
      "+---------+-----+\n",
      "\n"
     ]
    }
   ],
   "source": [
    "city_wise_count = df.groupBy(\"City\")\\\n",
    "    .count().show(truncate=False)"
   ]
  },
  {
   "cell_type": "code",
   "execution_count": 10,
   "id": "41763665",
   "metadata": {},
   "outputs": [
    {
     "name": "stdout",
     "output_type": "stream",
     "text": [
      "+-------+----+\n",
      "|   Name| Age|\n",
      "+-------+----+\n",
      "|  Alice|  29|\n",
      "|    Bob|  34|\n",
      "|Charlie|  25|\n",
      "|  David|  42|\n",
      "|    Eva|  30|\n",
      "|    Tom|null|\n",
      "+-------+----+\n",
      "\n"
     ]
    }
   ],
   "source": [
    "df.select(df.Name,df.Age).show()"
   ]
  },
  {
   "cell_type": "code",
   "execution_count": 11,
   "id": "c4a80470",
   "metadata": {},
   "outputs": [
    {
     "name": "stdout",
     "output_type": "stream",
     "text": [
      "+-----+---+\n",
      "| Name|Age|\n",
      "+-----+---+\n",
      "|  Bob| 34|\n",
      "|David| 42|\n",
      "|  Eva| 30|\n",
      "+-----+---+\n",
      "\n"
     ]
    }
   ],
   "source": [
    "filtered_df = df.filter(df.Age>=30)#.select(df.Name,df.Age).show()\n",
    "filtered_df.select(col(\"Name\"),col(\"Age\")).show()"
   ]
  },
  {
   "cell_type": "markdown",
   "id": "cce3a331",
   "metadata": {},
   "source": [
    "#### Add a new column called age_group based on the following logic:\n",
    "#### \"Young\" if age < 30\n",
    "#### \"Adult\" if age is between 30 and 40 (inclusive)\n",
    "#### \"Senior\" if age > 40"
   ]
  },
  {
   "cell_type": "code",
   "execution_count": 12,
   "id": "219de56f",
   "metadata": {
    "scrolled": true
   },
   "outputs": [
    {
     "name": "stdout",
     "output_type": "stream",
     "text": [
      "+-------+----+---------+---------+\n",
      "|   Name| Age|     City|age_group|\n",
      "+-------+----+---------+---------+\n",
      "|  Alice|  29|   Mumbai|    Young|\n",
      "|    Bob|  34|     Pune|    Adult|\n",
      "|Charlie|  25|    Delhi|    Young|\n",
      "|  David|  42|   Mumbai|   Senior|\n",
      "|    Eva|  30|  Chennai|    Adult|\n",
      "|    Tom|null|Ahmedabad|     null|\n",
      "+-------+----+---------+---------+\n",
      "\n"
     ]
    }
   ],
   "source": [
    "adding_age_group = df.withColumn(\"age_group\",when(df.Age<30,\"Young\")\n",
    "                                 .when((df.Age>=30) & (df.Age <=40),\"Adult\")\n",
    "                                 .when(df.Age>40,\"Senior\"))\n",
    "adding_age_group.show()"
   ]
  },
  {
   "cell_type": "markdown",
   "id": "3854aa86",
   "metadata": {},
   "source": [
    "#### Find the average age of people per city.\n",
    "#### Show the output as:\n",
    "#### city | avg_age"
   ]
  },
  {
   "cell_type": "code",
   "execution_count": 13,
   "id": "6d817cb1",
   "metadata": {},
   "outputs": [],
   "source": [
    "CitywiseAverageAge = df.groupBy(\"City\")\\\n",
    "    .agg(avg(\"Age\").alias(\"CitywiseAverageAge\"))"
   ]
  },
  {
   "cell_type": "code",
   "execution_count": 14,
   "id": "87f19e45",
   "metadata": {},
   "outputs": [
    {
     "name": "stdout",
     "output_type": "stream",
     "text": [
      "+---------+------------------+\n",
      "|     City|CitywiseAverageAge|\n",
      "+---------+------------------+\n",
      "|  Chennai|              30.0|\n",
      "|   Mumbai|              35.5|\n",
      "|Ahmedabad|              null|\n",
      "|     Pune|              34.0|\n",
      "|    Delhi|              25.0|\n",
      "+---------+------------------+\n",
      "\n"
     ]
    }
   ],
   "source": [
    "CitywiseAverageAge.show()"
   ]
  },
  {
   "cell_type": "code",
   "execution_count": 15,
   "id": "02bdd69d",
   "metadata": {},
   "outputs": [
    {
     "name": "stdout",
     "output_type": "stream",
     "text": [
      "+-------+----+---------+\n",
      "|   Name| Age|     City|\n",
      "+-------+----+---------+\n",
      "|  Alice|  29|   Mumbai|\n",
      "|    Bob|  34|     Pune|\n",
      "|Charlie|  25|    Delhi|\n",
      "|  David|  42|   Mumbai|\n",
      "|    Eva|  30|  Chennai|\n",
      "|    Tom|null|Ahmedabad|\n",
      "+-------+----+---------+\n",
      "\n"
     ]
    }
   ],
   "source": [
    "df.show()"
   ]
  },
  {
   "cell_type": "markdown",
   "id": "2fc7c5f6",
   "metadata": {},
   "source": [
    "#### Remove all rows where the Age is null or missing"
   ]
  },
  {
   "cell_type": "code",
   "execution_count": 18,
   "id": "669c2846",
   "metadata": {},
   "outputs": [],
   "source": [
    "remove_null = df.na.drop()"
   ]
  },
  {
   "cell_type": "code",
   "execution_count": 19,
   "id": "4733317c",
   "metadata": {},
   "outputs": [
    {
     "name": "stdout",
     "output_type": "stream",
     "text": [
      "+-------+---+-------+\n",
      "|   Name|Age|   City|\n",
      "+-------+---+-------+\n",
      "|  Alice| 29| Mumbai|\n",
      "|    Bob| 34|   Pune|\n",
      "|Charlie| 25|  Delhi|\n",
      "|  David| 42| Mumbai|\n",
      "|    Eva| 30|Chennai|\n",
      "+-------+---+-------+\n",
      "\n"
     ]
    }
   ],
   "source": [
    "remove_null.show()"
   ]
  },
  {
   "cell_type": "code",
   "execution_count": 25,
   "id": "46bb618e",
   "metadata": {},
   "outputs": [
    {
     "name": "stdout",
     "output_type": "stream",
     "text": [
      "+-------+----+---------+\n",
      "|   Name| Age|     City|\n",
      "+-------+----+---------+\n",
      "|  David|  42|   Mumbai|\n",
      "|    Bob|  34|     Pune|\n",
      "|    Eva|  30|  Chennai|\n",
      "|  Alice|  29|   Mumbai|\n",
      "|Charlie|  25|    Delhi|\n",
      "|    Tom|null|Ahmedabad|\n",
      "+-------+----+---------+\n",
      "\n"
     ]
    }
   ],
   "source": [
    "df.sort(df.Age.desc()).show()"
   ]
  },
  {
   "cell_type": "code",
   "execution_count": 30,
   "id": "20015d5f",
   "metadata": {},
   "outputs": [
    {
     "name": "stdout",
     "output_type": "stream",
     "text": [
      "+-----+---+-------+\n",
      "| Name|Age|   City|\n",
      "+-----+---+-------+\n",
      "|David| 42| Mumbai|\n",
      "|  Bob| 34|   Pune|\n",
      "|  Eva| 30|Chennai|\n",
      "+-----+---+-------+\n",
      "\n"
     ]
    }
   ],
   "source": [
    "df.select(\"Name\",\"Age\",\"City\")\\\n",
    "    .orderBy(df.Age.desc())\\\n",
    "    .limit(3)\\\n",
    "    .show()"
   ]
  },
  {
   "cell_type": "markdown",
   "id": "64224e09",
   "metadata": {},
   "source": [
    "#### Read both CSVs into separate DataFrames\n",
    "\n",
    "#### Combine them into one DataFrame\n",
    "\n",
    "#### Remove any duplicate rows\n",
    "\n",
    "#### Show the result"
   ]
  },
  {
   "cell_type": "code",
   "execution_count": 41,
   "id": "59315e28",
   "metadata": {},
   "outputs": [],
   "source": [
    "mumbai_people_schema = StructType([\n",
    "    StructField(\"Name\",StringType(),True),\n",
    "    StructField(\"Age\",IntegerType(),True),\n",
    "    StructField(\"City\",StringType(),True)\n",
    "])"
   ]
  },
  {
   "cell_type": "code",
   "execution_count": 42,
   "id": "e6140e9d",
   "metadata": {},
   "outputs": [],
   "source": [
    "mumbai_people_df = spark.read.csv(\"people_mumbai.csv\",header=True, inferSchema=False, schema=mumbai_people_schema)"
   ]
  },
  {
   "cell_type": "code",
   "execution_count": 43,
   "id": "e4145fc7",
   "metadata": {},
   "outputs": [],
   "source": [
    "pune_scheam = StructType([\n",
    "    StructField(\"Name\",StringType(),True),\n",
    "    StructField(\"Age\",IntegerType(),True),\n",
    "    StructField(\"City\",StringType(),True)\n",
    "])"
   ]
  },
  {
   "cell_type": "code",
   "execution_count": 44,
   "id": "34e08020",
   "metadata": {},
   "outputs": [],
   "source": [
    "pune_people_df = spark.read.csv(\"people_pune.csv\",header=True, inferSchema=False, schema=pune_scheam)"
   ]
  },
  {
   "cell_type": "code",
   "execution_count": 46,
   "id": "fb9ecca3",
   "metadata": {},
   "outputs": [
    {
     "name": "stdout",
     "output_type": "stream",
     "text": [
      "+-------+---+------+\n",
      "|   Name|Age|  City|\n",
      "+-------+---+------+\n",
      "|    Bob| 34|  Pune|\n",
      "|Charlie| 25|  Pune|\n",
      "|    Eva| 30|Mumbai|\n",
      "+-------+---+------+\n",
      "\n"
     ]
    }
   ],
   "source": [
    "pune_people_df.show()"
   ]
  },
  {
   "cell_type": "code",
   "execution_count": 50,
   "id": "71cb796f",
   "metadata": {},
   "outputs": [],
   "source": [
    "union_two_df = mumbai_people_df.union(pune_people_df).distinct()"
   ]
  },
  {
   "cell_type": "code",
   "execution_count": 51,
   "id": "7ad91759",
   "metadata": {},
   "outputs": [
    {
     "name": "stdout",
     "output_type": "stream",
     "text": [
      "+-------+---+------+\n",
      "|   Name|Age|  City|\n",
      "+-------+---+------+\n",
      "|    Eva| 30|Mumbai|\n",
      "|  David| 42|Mumbai|\n",
      "|  Alice| 29|Mumbai|\n",
      "|Charlie| 25|  Pune|\n",
      "|    Bob| 34|  Pune|\n",
      "+-------+---+------+\n",
      "\n"
     ]
    }
   ],
   "source": [
    "union_two_df.show()"
   ]
  },
  {
   "cell_type": "code",
   "execution_count": null,
   "id": "a470ab4d",
   "metadata": {},
   "outputs": [],
   "source": []
  }
 ],
 "metadata": {
  "kernelspec": {
   "display_name": "Python 3 (ipykernel)",
   "language": "python",
   "name": "python3"
  },
  "language_info": {
   "codemirror_mode": {
    "name": "ipython",
    "version": 3
   },
   "file_extension": ".py",
   "mimetype": "text/x-python",
   "name": "python",
   "nbconvert_exporter": "python",
   "pygments_lexer": "ipython3",
   "version": "3.11.4"
  }
 },
 "nbformat": 4,
 "nbformat_minor": 5
}
